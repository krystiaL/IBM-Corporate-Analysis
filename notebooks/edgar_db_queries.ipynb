{
 "cells": [
  {
   "cell_type": "markdown",
   "id": "c1009265-64a6-4ce4-8ec7-8ffe95384bb0",
   "metadata": {},
   "source": [
    "#### Imports"
   ]
  },
  {
   "cell_type": "code",
   "execution_count": 16,
   "id": "924e555d-4cca-4c6e-9a27-1db944ed6cc1",
   "metadata": {},
   "outputs": [
    {
     "name": "stdout",
     "output_type": "stream",
     "text": [
      "The autoreload extension is already loaded. To reload it, use:\n",
      "  %reload_ext autoreload\n"
     ]
    }
   ],
   "source": [
    "%load_ext autoreload\n",
    "%autoreload 2\n",
    "\n",
    "import numpy as np\n",
    "import pandas as pd\n",
    "import requests\n",
    "\n",
    "import sys\n",
    "sys.path.append('../edgar_utils')\n",
    "\n",
    "from params import *"
   ]
  },
  {
   "cell_type": "markdown",
   "id": "1f8fa8bd-ee87-42b7-8ae4-9636ceaf22df",
   "metadata": {
    "tags": []
   },
   "source": [
    "## Accessing EDGAR DB"
   ]
  },
  {
   "cell_type": "code",
   "execution_count": 17,
   "id": "68262292-0414-4655-a821-e597e76cdb74",
   "metadata": {},
   "outputs": [],
   "source": [
    "#create a request header using your email as the user agent\n",
    "headers = {\n",
    "    'User-Agent': EXAMPLE_EMAIL\n",
    "}\n",
    "\n",
    "#instantiate the sec url for the requests\n",
    "sec_url = SEC_URL"
   ]
  },
  {
   "cell_type": "code",
   "execution_count": 19,
   "id": "3cbb58f6-8ebe-4f48-94e3-b02a50805e43",
   "metadata": {},
   "outputs": [
    {
     "data": {
      "text/plain": [
       "<Response [200]>"
      ]
     },
     "execution_count": 19,
     "metadata": {},
     "output_type": "execute_result"
    }
   ],
   "source": [
    "#fetech all companies data\n",
    "response = requests.get(sec_url, headers=headers)\n",
    "response"
   ]
  },
  {
   "cell_type": "code",
   "execution_count": 32,
   "id": "f9773853-121a-4931-bf2e-b97ec20e3a7f",
   "metadata": {
    "tags": []
   },
   "outputs": [],
   "source": [
    "#save response data\n",
    "data = response.json()"
   ]
  },
  {
   "cell_type": "markdown",
   "id": "7aab44ad-0729-448a-b65c-6269eecf9104",
   "metadata": {
    "tags": []
   },
   "source": [
    "## Fetch Company Metadata"
   ]
  },
  {
   "cell_type": "code",
   "execution_count": 35,
   "id": "859f6c26-a1cd-49d7-a0ef-0307c2fb620d",
   "metadata": {},
   "outputs": [
    {
     "data": {
      "text/plain": [
       "{'cik_str': 789019, 'ticker': 'MSFT', 'title': 'MICROSOFT CORP'}"
      ]
     },
     "execution_count": 35,
     "metadata": {},
     "output_type": "execute_result"
    }
   ],
   "source": [
    "# check 1st value // format\n",
    "first_entry = data['0']\n",
    "first_entry"
   ]
  },
  {
   "cell_type": "code",
   "execution_count": 34,
   "id": "5bd1720d-9906-4691-bd61-489eaf96cea0",
   "metadata": {},
   "outputs": [
    {
     "data": {
      "text/plain": [
       "789019"
      ]
     },
     "execution_count": 34,
     "metadata": {},
     "output_type": "execute_result"
    }
   ],
   "source": [
    "# parse cik without leading zeros\n",
    "first_entry = data['0']['cik_str']\n",
    "first_entry"
   ]
  },
  {
   "cell_type": "code",
   "execution_count": 36,
   "id": "26a03b86-f893-40cd-8089-468b1a15ddc4",
   "metadata": {},
   "outputs": [
    {
     "data": {
      "text/html": [
       "<div>\n",
       "<style scoped>\n",
       "    .dataframe tbody tr th:only-of-type {\n",
       "        vertical-align: middle;\n",
       "    }\n",
       "\n",
       "    .dataframe tbody tr th {\n",
       "        vertical-align: top;\n",
       "    }\n",
       "\n",
       "    .dataframe thead th {\n",
       "        text-align: right;\n",
       "    }\n",
       "</style>\n",
       "<table border=\"1\" class=\"dataframe\">\n",
       "  <thead>\n",
       "    <tr style=\"text-align: right;\">\n",
       "      <th></th>\n",
       "      <th>cik_str</th>\n",
       "      <th>ticker</th>\n",
       "      <th>title</th>\n",
       "    </tr>\n",
       "  </thead>\n",
       "  <tbody>\n",
       "    <tr>\n",
       "      <th>0</th>\n",
       "      <td>789019</td>\n",
       "      <td>MSFT</td>\n",
       "      <td>MICROSOFT CORP</td>\n",
       "    </tr>\n",
       "    <tr>\n",
       "      <th>1</th>\n",
       "      <td>320193</td>\n",
       "      <td>AAPL</td>\n",
       "      <td>Apple Inc.</td>\n",
       "    </tr>\n",
       "    <tr>\n",
       "      <th>2</th>\n",
       "      <td>1045810</td>\n",
       "      <td>NVDA</td>\n",
       "      <td>NVIDIA CORP</td>\n",
       "    </tr>\n",
       "    <tr>\n",
       "      <th>3</th>\n",
       "      <td>1018724</td>\n",
       "      <td>AMZN</td>\n",
       "      <td>AMAZON COM INC</td>\n",
       "    </tr>\n",
       "    <tr>\n",
       "      <th>4</th>\n",
       "      <td>1652044</td>\n",
       "      <td>GOOGL</td>\n",
       "      <td>Alphabet Inc.</td>\n",
       "    </tr>\n",
       "    <tr>\n",
       "      <th>...</th>\n",
       "      <td>...</td>\n",
       "      <td>...</td>\n",
       "      <td>...</td>\n",
       "    </tr>\n",
       "    <tr>\n",
       "      <th>10418</th>\n",
       "      <td>1969475</td>\n",
       "      <td>BAYAR</td>\n",
       "      <td>Bayview Acquisition Corp</td>\n",
       "    </tr>\n",
       "    <tr>\n",
       "      <th>10419</th>\n",
       "      <td>1978528</td>\n",
       "      <td>QETAR</td>\n",
       "      <td>Quetta Acquisition Corp</td>\n",
       "    </tr>\n",
       "    <tr>\n",
       "      <th>10420</th>\n",
       "      <td>1978528</td>\n",
       "      <td>QETAU</td>\n",
       "      <td>Quetta Acquisition Corp</td>\n",
       "    </tr>\n",
       "    <tr>\n",
       "      <th>10421</th>\n",
       "      <td>1975218</td>\n",
       "      <td>NETDW</td>\n",
       "      <td>Nabors Energy Transition Corp. II</td>\n",
       "    </tr>\n",
       "    <tr>\n",
       "      <th>10422</th>\n",
       "      <td>1975218</td>\n",
       "      <td>NETDU</td>\n",
       "      <td>Nabors Energy Transition Corp. II</td>\n",
       "    </tr>\n",
       "  </tbody>\n",
       "</table>\n",
       "<p>10423 rows × 3 columns</p>\n",
       "</div>"
      ],
      "text/plain": [
       "       cik_str ticker                              title\n",
       "0       789019   MSFT                     MICROSOFT CORP\n",
       "1       320193   AAPL                         Apple Inc.\n",
       "2      1045810   NVDA                        NVIDIA CORP\n",
       "3      1018724   AMZN                     AMAZON COM INC\n",
       "4      1652044  GOOGL                      Alphabet Inc.\n",
       "...        ...    ...                                ...\n",
       "10418  1969475  BAYAR           Bayview Acquisition Corp\n",
       "10419  1978528  QETAR            Quetta Acquisition Corp\n",
       "10420  1978528  QETAU            Quetta Acquisition Corp\n",
       "10421  1975218  NETDW  Nabors Energy Transition Corp. II\n",
       "10422  1975218  NETDU  Nabors Energy Transition Corp. II\n",
       "\n",
       "[10423 rows x 3 columns]"
      ]
     },
     "execution_count": 36,
     "metadata": {},
     "output_type": "execute_result"
    }
   ],
   "source": [
    "# dict to df\n",
    "companies_df = pd.DataFrame.from_dict(data, orient='index')\n",
    "companies_df"
   ]
  },
  {
   "cell_type": "code",
   "execution_count": 38,
   "id": "1c6f78c5-83d1-49b8-aac5-55ba4c01c652",
   "metadata": {},
   "outputs": [],
   "source": [
    "#add leading zeros to CIK\n",
    "''' \n",
    "########## is the entity’s 10-digit Central Index Key (CIK), \n",
    "including leading zeros.\n",
    "'''\n",
    "\n",
    "companies_df['cik_str'] = companies_df['cik_str'].astype(str).str.zfill(10)"
   ]
  },
  {
   "cell_type": "code",
   "execution_count": 39,
   "id": "3f82fc5a-59e9-489d-87dc-8daed2132c00",
   "metadata": {},
   "outputs": [
    {
     "data": {
      "text/html": [
       "<div>\n",
       "<style scoped>\n",
       "    .dataframe tbody tr th:only-of-type {\n",
       "        vertical-align: middle;\n",
       "    }\n",
       "\n",
       "    .dataframe tbody tr th {\n",
       "        vertical-align: top;\n",
       "    }\n",
       "\n",
       "    .dataframe thead th {\n",
       "        text-align: right;\n",
       "    }\n",
       "</style>\n",
       "<table border=\"1\" class=\"dataframe\">\n",
       "  <thead>\n",
       "    <tr style=\"text-align: right;\">\n",
       "      <th></th>\n",
       "      <th>cik_str</th>\n",
       "      <th>ticker</th>\n",
       "      <th>title</th>\n",
       "    </tr>\n",
       "  </thead>\n",
       "  <tbody>\n",
       "    <tr>\n",
       "      <th>0</th>\n",
       "      <td>0000789019</td>\n",
       "      <td>MSFT</td>\n",
       "      <td>MICROSOFT CORP</td>\n",
       "    </tr>\n",
       "    <tr>\n",
       "      <th>1</th>\n",
       "      <td>0000320193</td>\n",
       "      <td>AAPL</td>\n",
       "      <td>Apple Inc.</td>\n",
       "    </tr>\n",
       "    <tr>\n",
       "      <th>2</th>\n",
       "      <td>0001045810</td>\n",
       "      <td>NVDA</td>\n",
       "      <td>NVIDIA CORP</td>\n",
       "    </tr>\n",
       "    <tr>\n",
       "      <th>3</th>\n",
       "      <td>0001018724</td>\n",
       "      <td>AMZN</td>\n",
       "      <td>AMAZON COM INC</td>\n",
       "    </tr>\n",
       "    <tr>\n",
       "      <th>4</th>\n",
       "      <td>0001652044</td>\n",
       "      <td>GOOGL</td>\n",
       "      <td>Alphabet Inc.</td>\n",
       "    </tr>\n",
       "  </tbody>\n",
       "</table>\n",
       "</div>"
      ],
      "text/plain": [
       "      cik_str ticker           title\n",
       "0  0000789019   MSFT  MICROSOFT CORP\n",
       "1  0000320193   AAPL      Apple Inc.\n",
       "2  0001045810   NVDA     NVIDIA CORP\n",
       "3  0001018724   AMZN  AMAZON COM INC\n",
       "4  0001652044  GOOGL   Alphabet Inc."
      ]
     },
     "execution_count": 39,
     "metadata": {},
     "output_type": "execute_result"
    }
   ],
   "source": [
    "companies_df.head(5)"
   ]
  },
  {
   "cell_type": "markdown",
   "id": "23918439-c9a8-4a85-8436-888d6c6e25ed",
   "metadata": {
    "tags": []
   },
   "source": [
    "## IBM CIK"
   ]
  },
  {
   "cell_type": "code",
   "execution_count": 89,
   "id": "659e265b-1700-441f-bd8c-b793e45b069e",
   "metadata": {},
   "outputs": [
    {
     "data": {
      "text/plain": [
       "'0000051143'"
      ]
     },
     "execution_count": 89,
     "metadata": {},
     "output_type": "execute_result"
    }
   ],
   "source": [
    "#save ibm cik for query\n",
    "ibm_data = companies_df.loc[companies_df['ticker'] == 'IBM']\n",
    "ibm_cik = ibm_data['cik_str'][0]\n",
    "ibm_cik"
   ]
  },
  {
   "cell_type": "code",
   "execution_count": 90,
   "id": "7e44def7-8d14-473b-bb02-55c6036a7a60",
   "metadata": {},
   "outputs": [],
   "source": [
    "filing_response = requests.get(\n",
    "                    f'https://data.sec.gov/submissions/CIK{ibm_cik}.json',\n",
    "                    headers=headers\n",
    "                    )"
   ]
  },
  {
   "cell_type": "code",
   "execution_count": 134,
   "id": "c8c98472-5b20-4ec3-bac8-b86d1be36a98",
   "metadata": {},
   "outputs": [
    {
     "data": {
      "text/plain": [
       "dict_keys(['cik', 'entityType', 'sic', 'sicDescription', 'insiderTransactionForOwnerExists', 'insiderTransactionForIssuerExists', 'name', 'tickers', 'exchanges', 'ein', 'description', 'website', 'investorWebsite', 'category', 'fiscalYearEnd', 'stateOfIncorporation', 'stateOfIncorporationDescription', 'addresses', 'phone', 'flags', 'formerNames', 'filings'])"
      ]
     },
     "execution_count": 134,
     "metadata": {},
     "output_type": "execute_result"
    }
   ],
   "source": [
    "metadata = filing_response.json()\n",
    "metadata.keys()"
   ]
  },
  {
   "cell_type": "code",
   "execution_count": 133,
   "id": "0944b08f-435d-4405-a951-ea005ed06d42",
   "metadata": {},
   "outputs": [
    {
     "data": {
      "text/plain": [
       "dict_keys(['recent', 'files'])"
      ]
     },
     "execution_count": 133,
     "metadata": {},
     "output_type": "execute_result"
    }
   ],
   "source": [
    "#check filings\n",
    "metadata['filings'].keys()"
   ]
  },
  {
   "cell_type": "code",
   "execution_count": 94,
   "id": "fedc07ad-475e-4fa0-9836-6bfe9fb8e59c",
   "metadata": {},
   "outputs": [
    {
     "data": {
      "text/plain": [
       "[{'name': 'CIK0000051143-submissions-001.json',\n",
       "  'filingCount': 2011,\n",
       "  'filingFrom': '2011-05-10',\n",
       "  'filingTo': '2018-05-09'},\n",
       " {'name': 'CIK0000051143-submissions-002.json',\n",
       "  'filingCount': 2011,\n",
       "  'filingFrom': '2006-05-16',\n",
       "  'filingTo': '2011-05-09'},\n",
       " {'name': 'CIK0000051143-submissions-003.json',\n",
       "  'filingCount': 2000,\n",
       "  'filingFrom': '2002-07-17',\n",
       "  'filingTo': '2006-05-15'},\n",
       " {'name': 'CIK0000051143-submissions-004.json',\n",
       "  'filingCount': 315,\n",
       "  'filingFrom': '1994-03-10',\n",
       "  'filingTo': '2002-07-16'}]"
      ]
     },
     "execution_count": 94,
     "metadata": {},
     "output_type": "execute_result"
    }
   ],
   "source": [
    "metadata['filings']['files']"
   ]
  },
  {
   "cell_type": "code",
   "execution_count": 95,
   "id": "fafc92db-0dd1-4fa9-b5d4-0eaf3bc4a25d",
   "metadata": {},
   "outputs": [],
   "source": [
    "forms_data = metadata['filings']['recent']"
   ]
  },
  {
   "cell_type": "code",
   "execution_count": 96,
   "id": "4294bdcc-63f7-4793-8bb7-193e46c967b9",
   "metadata": {},
   "outputs": [],
   "source": [
    "#store all filings as df\n",
    "company_forms = pd.DataFrame.from_dict(forms_data)"
   ]
  },
  {
   "cell_type": "code",
   "execution_count": 97,
   "id": "6ff1098a-7157-4a36-bd4b-6672ca0ceba7",
   "metadata": {},
   "outputs": [
    {
     "data": {
      "text/plain": [
       "Index(['accessionNumber', 'filingDate', 'reportDate', 'acceptanceDateTime',\n",
       "       'act', 'form', 'fileNumber', 'filmNumber', 'items', 'size', 'isXBRL',\n",
       "       'isInlineXBRL', 'primaryDocument', 'primaryDocDescription'],\n",
       "      dtype='object')"
      ]
     },
     "execution_count": 97,
     "metadata": {},
     "output_type": "execute_result"
    }
   ],
   "source": [
    "company_forms.columns"
   ]
  },
  {
   "cell_type": "code",
   "execution_count": 98,
   "id": "67255ee2-f48d-4b74-8599-c1dd1b2e4ed9",
   "metadata": {},
   "outputs": [
    {
     "data": {
      "text/html": [
       "<div>\n",
       "<style scoped>\n",
       "    .dataframe tbody tr th:only-of-type {\n",
       "        vertical-align: middle;\n",
       "    }\n",
       "\n",
       "    .dataframe tbody tr th {\n",
       "        vertical-align: top;\n",
       "    }\n",
       "\n",
       "    .dataframe thead th {\n",
       "        text-align: right;\n",
       "    }\n",
       "</style>\n",
       "<table border=\"1\" class=\"dataframe\">\n",
       "  <thead>\n",
       "    <tr style=\"text-align: right;\">\n",
       "      <th></th>\n",
       "      <th>accessionNumber</th>\n",
       "      <th>reportDate</th>\n",
       "      <th>form</th>\n",
       "    </tr>\n",
       "  </thead>\n",
       "  <tbody>\n",
       "    <tr>\n",
       "      <th>0</th>\n",
       "      <td>0000051143-24-000015</td>\n",
       "      <td>2024-03-18</td>\n",
       "      <td>8-K</td>\n",
       "    </tr>\n",
       "    <tr>\n",
       "      <th>1</th>\n",
       "      <td>0001214659-24-004360</td>\n",
       "      <td></td>\n",
       "      <td>PX14A6G</td>\n",
       "    </tr>\n",
       "    <tr>\n",
       "      <th>2</th>\n",
       "      <td>0001104659-24-032653</td>\n",
       "      <td>2023-12-31</td>\n",
       "      <td>ARS</td>\n",
       "    </tr>\n",
       "    <tr>\n",
       "      <th>3</th>\n",
       "      <td>0001104659-24-032647</td>\n",
       "      <td></td>\n",
       "      <td>DEFA14A</td>\n",
       "    </tr>\n",
       "    <tr>\n",
       "      <th>4</th>\n",
       "      <td>0001104659-24-032641</td>\n",
       "      <td>2024-04-30</td>\n",
       "      <td>DEF 14A</td>\n",
       "    </tr>\n",
       "    <tr>\n",
       "      <th>...</th>\n",
       "      <td>...</td>\n",
       "      <td>...</td>\n",
       "      <td>...</td>\n",
       "    </tr>\n",
       "    <tr>\n",
       "      <th>1000</th>\n",
       "      <td>0001562180-18-002438</td>\n",
       "      <td>2018-05-09</td>\n",
       "      <td>4</td>\n",
       "    </tr>\n",
       "    <tr>\n",
       "      <th>1001</th>\n",
       "      <td>0001562180-18-002437</td>\n",
       "      <td>2018-05-09</td>\n",
       "      <td>4</td>\n",
       "    </tr>\n",
       "    <tr>\n",
       "      <th>1002</th>\n",
       "      <td>0001562180-18-002436</td>\n",
       "      <td>2018-05-09</td>\n",
       "      <td>4</td>\n",
       "    </tr>\n",
       "    <tr>\n",
       "      <th>1003</th>\n",
       "      <td>0001562180-18-002435</td>\n",
       "      <td>2018-05-09</td>\n",
       "      <td>4</td>\n",
       "    </tr>\n",
       "    <tr>\n",
       "      <th>1004</th>\n",
       "      <td>0001562180-18-002434</td>\n",
       "      <td>2018-05-09</td>\n",
       "      <td>4</td>\n",
       "    </tr>\n",
       "  </tbody>\n",
       "</table>\n",
       "<p>1005 rows × 3 columns</p>\n",
       "</div>"
      ],
      "text/plain": [
       "           accessionNumber  reportDate     form\n",
       "0     0000051143-24-000015  2024-03-18      8-K\n",
       "1     0001214659-24-004360              PX14A6G\n",
       "2     0001104659-24-032653  2023-12-31      ARS\n",
       "3     0001104659-24-032647              DEFA14A\n",
       "4     0001104659-24-032641  2024-04-30  DEF 14A\n",
       "...                    ...         ...      ...\n",
       "1000  0001562180-18-002438  2018-05-09        4\n",
       "1001  0001562180-18-002437  2018-05-09        4\n",
       "1002  0001562180-18-002436  2018-05-09        4\n",
       "1003  0001562180-18-002435  2018-05-09        4\n",
       "1004  0001562180-18-002434  2018-05-09        4\n",
       "\n",
       "[1005 rows x 3 columns]"
      ]
     },
     "execution_count": 98,
     "metadata": {},
     "output_type": "execute_result"
    }
   ],
   "source": [
    "columns = ['accessionNumber', 'reportDate',  'form']\n",
    "company_forms[columns]"
   ]
  },
  {
   "cell_type": "code",
   "execution_count": 99,
   "id": "c5684508-121f-4411-900f-2ec72226f798",
   "metadata": {},
   "outputs": [],
   "source": [
    "form_10k = company_forms.loc[company_forms['form'] == '10-K']"
   ]
  },
  {
   "cell_type": "code",
   "execution_count": 100,
   "id": "530f2343-4720-4906-9df1-af15b0f71b6d",
   "metadata": {},
   "outputs": [
    {
     "data": {
      "text/html": [
       "<div>\n",
       "<style scoped>\n",
       "    .dataframe tbody tr th:only-of-type {\n",
       "        vertical-align: middle;\n",
       "    }\n",
       "\n",
       "    .dataframe tbody tr th {\n",
       "        vertical-align: top;\n",
       "    }\n",
       "\n",
       "    .dataframe thead th {\n",
       "        text-align: right;\n",
       "    }\n",
       "</style>\n",
       "<table border=\"1\" class=\"dataframe\">\n",
       "  <thead>\n",
       "    <tr style=\"text-align: right;\">\n",
       "      <th></th>\n",
       "      <th>accessionNumber</th>\n",
       "      <th>filingDate</th>\n",
       "      <th>reportDate</th>\n",
       "      <th>acceptanceDateTime</th>\n",
       "      <th>act</th>\n",
       "      <th>form</th>\n",
       "      <th>fileNumber</th>\n",
       "      <th>filmNumber</th>\n",
       "      <th>items</th>\n",
       "      <th>size</th>\n",
       "      <th>isXBRL</th>\n",
       "      <th>isInlineXBRL</th>\n",
       "      <th>primaryDocument</th>\n",
       "      <th>primaryDocDescription</th>\n",
       "    </tr>\n",
       "  </thead>\n",
       "  <tbody>\n",
       "    <tr>\n",
       "      <th>5</th>\n",
       "      <td>0000051143-24-000012</td>\n",
       "      <td>2024-02-26</td>\n",
       "      <td>2023-12-31</td>\n",
       "      <td>2024-02-26T06:41:57.000Z</td>\n",
       "      <td>34</td>\n",
       "      <td>10-K</td>\n",
       "      <td>001-02360</td>\n",
       "      <td>24673497</td>\n",
       "      <td></td>\n",
       "      <td>79490429</td>\n",
       "      <td>1</td>\n",
       "      <td>1</td>\n",
       "      <td>ibm-20231231.htm</td>\n",
       "      <td>10-K</td>\n",
       "    </tr>\n",
       "    <tr>\n",
       "      <th>129</th>\n",
       "      <td>0001558370-23-002376</td>\n",
       "      <td>2023-02-28</td>\n",
       "      <td>2022-12-31</td>\n",
       "      <td>2023-02-28T16:26:11.000Z</td>\n",
       "      <td>34</td>\n",
       "      <td>10-K</td>\n",
       "      <td>001-02360</td>\n",
       "      <td>23685888</td>\n",
       "      <td></td>\n",
       "      <td>53972096</td>\n",
       "      <td>1</td>\n",
       "      <td>1</td>\n",
       "      <td>ibm-20221231x10k.htm</td>\n",
       "      <td>10-K</td>\n",
       "    </tr>\n",
       "    <tr>\n",
       "      <th>289</th>\n",
       "      <td>0001558370-22-001584</td>\n",
       "      <td>2022-02-22</td>\n",
       "      <td>2021-12-31</td>\n",
       "      <td>2022-02-22T16:07:29.000Z</td>\n",
       "      <td>34</td>\n",
       "      <td>10-K</td>\n",
       "      <td>001-02360</td>\n",
       "      <td>22658090</td>\n",
       "      <td></td>\n",
       "      <td>54190023</td>\n",
       "      <td>1</td>\n",
       "      <td>1</td>\n",
       "      <td>ibm-20211231x10k.htm</td>\n",
       "      <td>10-K</td>\n",
       "    </tr>\n",
       "    <tr>\n",
       "      <th>456</th>\n",
       "      <td>0001558370-21-001489</td>\n",
       "      <td>2021-02-23</td>\n",
       "      <td>2020-12-31</td>\n",
       "      <td>2021-02-23T17:08:23.000Z</td>\n",
       "      <td>34</td>\n",
       "      <td>10-K</td>\n",
       "      <td>001-02360</td>\n",
       "      <td>21666675</td>\n",
       "      <td></td>\n",
       "      <td>52973273</td>\n",
       "      <td>1</td>\n",
       "      <td>1</td>\n",
       "      <td>ibm-20201231x10k.htm</td>\n",
       "      <td>10-K</td>\n",
       "    </tr>\n",
       "    <tr>\n",
       "      <th>638</th>\n",
       "      <td>0001558370-20-001334</td>\n",
       "      <td>2020-02-25</td>\n",
       "      <td>2019-12-31</td>\n",
       "      <td>2020-02-25T16:54:20.000Z</td>\n",
       "      <td>34</td>\n",
       "      <td>10-K</td>\n",
       "      <td>001-02360</td>\n",
       "      <td>20651634</td>\n",
       "      <td></td>\n",
       "      <td>44890558</td>\n",
       "      <td>1</td>\n",
       "      <td>1</td>\n",
       "      <td>ibm-20191231x10k2af531.htm</td>\n",
       "      <td>10-K</td>\n",
       "    </tr>\n",
       "    <tr>\n",
       "      <th>844</th>\n",
       "      <td>0001047469-19-000712</td>\n",
       "      <td>2019-02-26</td>\n",
       "      <td>2018-12-31</td>\n",
       "      <td>2019-02-26T16:27:59.000Z</td>\n",
       "      <td>34</td>\n",
       "      <td>10-K</td>\n",
       "      <td>001-02360</td>\n",
       "      <td>19633815</td>\n",
       "      <td></td>\n",
       "      <td>40132688</td>\n",
       "      <td>1</td>\n",
       "      <td>0</td>\n",
       "      <td>a2237254z10-k.htm</td>\n",
       "      <td>10-K</td>\n",
       "    </tr>\n",
       "  </tbody>\n",
       "</table>\n",
       "</div>"
      ],
      "text/plain": [
       "          accessionNumber  filingDate  reportDate        acceptanceDateTime  \\\n",
       "5    0000051143-24-000012  2024-02-26  2023-12-31  2024-02-26T06:41:57.000Z   \n",
       "129  0001558370-23-002376  2023-02-28  2022-12-31  2023-02-28T16:26:11.000Z   \n",
       "289  0001558370-22-001584  2022-02-22  2021-12-31  2022-02-22T16:07:29.000Z   \n",
       "456  0001558370-21-001489  2021-02-23  2020-12-31  2021-02-23T17:08:23.000Z   \n",
       "638  0001558370-20-001334  2020-02-25  2019-12-31  2020-02-25T16:54:20.000Z   \n",
       "844  0001047469-19-000712  2019-02-26  2018-12-31  2019-02-26T16:27:59.000Z   \n",
       "\n",
       "    act  form fileNumber filmNumber items      size  isXBRL  isInlineXBRL  \\\n",
       "5    34  10-K  001-02360   24673497        79490429       1             1   \n",
       "129  34  10-K  001-02360   23685888        53972096       1             1   \n",
       "289  34  10-K  001-02360   22658090        54190023       1             1   \n",
       "456  34  10-K  001-02360   21666675        52973273       1             1   \n",
       "638  34  10-K  001-02360   20651634        44890558       1             1   \n",
       "844  34  10-K  001-02360   19633815        40132688       1             0   \n",
       "\n",
       "                primaryDocument primaryDocDescription  \n",
       "5              ibm-20231231.htm                  10-K  \n",
       "129        ibm-20221231x10k.htm                  10-K  \n",
       "289        ibm-20211231x10k.htm                  10-K  \n",
       "456        ibm-20201231x10k.htm                  10-K  \n",
       "638  ibm-20191231x10k2af531.htm                  10-K  \n",
       "844           a2237254z10-k.htm                  10-K  "
      ]
     },
     "execution_count": 100,
     "metadata": {},
     "output_type": "execute_result"
    }
   ],
   "source": [
    "form_10k"
   ]
  },
  {
   "cell_type": "markdown",
   "id": "cb819af7-3e2d-48be-8812-03af1bd330fa",
   "metadata": {
    "jp-MarkdownHeadingCollapsed": true,
    "tags": []
   },
   "source": [
    "## Fetching company facts"
   ]
  },
  {
   "cell_type": "code",
   "execution_count": 102,
   "id": "7a57e960-e2d7-4cf3-b327-4da52596445a",
   "metadata": {},
   "outputs": [
    {
     "data": {
      "text/plain": [
       "<Response [200]>"
      ]
     },
     "execution_count": 102,
     "metadata": {},
     "output_type": "execute_result"
    }
   ],
   "source": [
    "#fetch the request\n",
    "ibm_facts_response = requests.get(f'https://data.sec.gov/api/xbrl/companyfacts/CIK{ibm_cik}.json',\n",
    "                         headers=headers)\n",
    "ibm_facts_response"
   ]
  },
  {
   "cell_type": "code",
   "execution_count": 103,
   "id": "1d365148-3a28-4c30-936f-f6160fa4e3fe",
   "metadata": {},
   "outputs": [],
   "source": [
    "ibm_facts_data = ibm_facts_response.json()"
   ]
  },
  {
   "cell_type": "code",
   "execution_count": 109,
   "id": "3d8f9607-258b-41e6-8550-ac3852dcfc96",
   "metadata": {
    "tags": []
   },
   "outputs": [
    {
     "data": {
      "text/plain": [
       "dict_keys(['cik', 'entityName', 'facts'])"
      ]
     },
     "execution_count": 109,
     "metadata": {},
     "output_type": "execute_result"
    }
   ],
   "source": [
    "ibm_facts_data.keys()"
   ]
  },
  {
   "cell_type": "code",
   "execution_count": 127,
   "id": "f13a4a28-6f24-47d8-8ec8-b54977f6fea1",
   "metadata": {},
   "outputs": [],
   "source": [
    "ibm_facts = ibm_facts_data['facts']"
   ]
  },
  {
   "cell_type": "markdown",
   "id": "ecd5a2be-dece-4e6c-8c9c-196f3788c989",
   "metadata": {},
   "source": [
    "key descriptions:\n",
    "- dei - shares <br/>\n",
    "- us-gaap  -  statements"
   ]
  },
  {
   "cell_type": "markdown",
   "id": "6716dadb-99c0-476b-b9bc-05a2398c5309",
   "metadata": {
    "jp-MarkdownHeadingCollapsed": true,
    "tags": []
   },
   "source": [
    "### DEI"
   ]
  },
  {
   "cell_type": "code",
   "execution_count": 128,
   "id": "b6052d7f-7e0c-479b-b8c0-6b22ea3a2f45",
   "metadata": {},
   "outputs": [],
   "source": [
    "ibm_dei = ibm_facts['dei']['EntityCommonStockSharesOutstanding']\n",
    "dei_label = ibm_dei['label']\n",
    "dei_description = ibm_dei['description']"
   ]
  },
  {
   "cell_type": "code",
   "execution_count": 191,
   "id": "480af0ce-ddae-493b-b881-4dec5990a293",
   "metadata": {},
   "outputs": [
    {
     "name": "stdout",
     "output_type": "stream",
     "text": [
      "label:Entity Common Stock, Shares Outstanding \n",
      "\n",
      "description:Indicate number of shares or other units outstanding of each of registrant's classes of capital or common stock or other ownership interests, if and as stated on cover of related periodic report. Where multiple classes or units exist define each class/interest by adding class of stock items such as Common Class A [Member], Common Class B [Member] or Partnership Interest [Member] onto the Instrument [Domain] of the Entity Listings, Instrument.\n"
     ]
    }
   ],
   "source": [
    "print(f'label:{dei_label} \\n\\ndescription:{dei_description}')"
   ]
  },
  {
   "cell_type": "code",
   "execution_count": 137,
   "id": "b4c186f1-525a-48d5-8f90-0aee1e4cbeb0",
   "metadata": {},
   "outputs": [],
   "source": [
    "ibm_shares = ibm_dei['units']['shares']\n",
    "ibm_shares_df = pd.DataFrame.from_dict(ibm_shares)"
   ]
  },
  {
   "cell_type": "code",
   "execution_count": 138,
   "id": "07328a75-630e-4534-a298-c71f4d5845ad",
   "metadata": {},
   "outputs": [
    {
     "data": {
      "text/html": [
       "<div>\n",
       "<style scoped>\n",
       "    .dataframe tbody tr th:only-of-type {\n",
       "        vertical-align: middle;\n",
       "    }\n",
       "\n",
       "    .dataframe tbody tr th {\n",
       "        vertical-align: top;\n",
       "    }\n",
       "\n",
       "    .dataframe thead th {\n",
       "        text-align: right;\n",
       "    }\n",
       "</style>\n",
       "<table border=\"1\" class=\"dataframe\">\n",
       "  <thead>\n",
       "    <tr style=\"text-align: right;\">\n",
       "      <th></th>\n",
       "      <th>end</th>\n",
       "      <th>val</th>\n",
       "      <th>accn</th>\n",
       "      <th>fy</th>\n",
       "      <th>fp</th>\n",
       "      <th>form</th>\n",
       "      <th>filed</th>\n",
       "      <th>frame</th>\n",
       "    </tr>\n",
       "  </thead>\n",
       "  <tbody>\n",
       "    <tr>\n",
       "      <th>0</th>\n",
       "      <td>2009-06-30</td>\n",
       "      <td>1310883577</td>\n",
       "      <td>0001104659-09-045198</td>\n",
       "      <td>2009</td>\n",
       "      <td>Q2</td>\n",
       "      <td>10-Q</td>\n",
       "      <td>2009-07-28</td>\n",
       "      <td>CY2009Q2I</td>\n",
       "    </tr>\n",
       "    <tr>\n",
       "      <th>1</th>\n",
       "      <td>2009-09-30</td>\n",
       "      <td>1313602936</td>\n",
       "      <td>0001104659-09-060554</td>\n",
       "      <td>2009</td>\n",
       "      <td>Q3</td>\n",
       "      <td>10-Q</td>\n",
       "      <td>2009-10-27</td>\n",
       "      <td>CY2009Q3I</td>\n",
       "    </tr>\n",
       "    <tr>\n",
       "      <th>2</th>\n",
       "      <td>2010-02-10</td>\n",
       "      <td>1299003390</td>\n",
       "      <td>0001047469-10-001151</td>\n",
       "      <td>2009</td>\n",
       "      <td>FY</td>\n",
       "      <td>10-K</td>\n",
       "      <td>2010-02-23</td>\n",
       "      <td>CY2009Q4I</td>\n",
       "    </tr>\n",
       "  </tbody>\n",
       "</table>\n",
       "</div>"
      ],
      "text/plain": [
       "          end         val                  accn    fy  fp  form       filed  \\\n",
       "0  2009-06-30  1310883577  0001104659-09-045198  2009  Q2  10-Q  2009-07-28   \n",
       "1  2009-09-30  1313602936  0001104659-09-060554  2009  Q3  10-Q  2009-10-27   \n",
       "2  2010-02-10  1299003390  0001047469-10-001151  2009  FY  10-K  2010-02-23   \n",
       "\n",
       "       frame  \n",
       "0  CY2009Q2I  \n",
       "1  CY2009Q3I  \n",
       "2  CY2009Q4I  "
      ]
     },
     "execution_count": 138,
     "metadata": {},
     "output_type": "execute_result"
    }
   ],
   "source": [
    "ibm_shares_df.head(3)"
   ]
  },
  {
   "cell_type": "markdown",
   "id": "8699855e-61b9-4708-87db-752ddf763749",
   "metadata": {
    "tags": []
   },
   "source": [
    "### US-GAAP"
   ]
  },
  {
   "cell_type": "code",
   "execution_count": 165,
   "id": "fc4f9013-9676-4a72-8c18-2e2b6232621e",
   "metadata": {},
   "outputs": [],
   "source": [
    "ibm_gaap = ibm_facts['us-gaap']"
   ]
  },
  {
   "cell_type": "code",
   "execution_count": 166,
   "id": "2082a68c-fb53-44fa-a6c8-2ebad2ac47e1",
   "metadata": {},
   "outputs": [],
   "source": [
    "ibm_acc_items = pd.DataFrame.from_dict(ibm_gaap).transpose()"
   ]
  },
  {
   "cell_type": "code",
   "execution_count": 172,
   "id": "a1a104dd-94e8-481c-990d-2d9891d72388",
   "metadata": {},
   "outputs": [],
   "source": [
    "#list of account names used in the statements\n",
    "item_names = ibm_gaap.keys()"
   ]
  },
  {
   "cell_type": "code",
   "execution_count": 180,
   "id": "2f702183-1b0e-4f5e-b575-80c6d9821f79",
   "metadata": {},
   "outputs": [
    {
     "data": {
      "text/plain": [
       "['ContractWithCustomerLiabilityRevenueRecognized',\n",
       " 'CostOfRevenue',\n",
       " 'DeferredRevenueCurrent',\n",
       " 'DeferredRevenueNoncurrent',\n",
       " 'FinancialServicesRevenue',\n",
       " 'RevenueRemainingPerformanceObligation',\n",
       " 'Revenues',\n",
       " 'SalesRevenueGoodsNet',\n",
       " 'SalesRevenueServicesNet',\n",
       " 'SalesTypeLeaseRevenue',\n",
       " 'SegmentReportingInformationIntersegmentRevenue',\n",
       " 'SegmentReportingInformationRevenue',\n",
       " 'SegmentReportingInformationRevenueFromExternalCustomers',\n",
       " 'SegmentReportingReconcilingItemsRevenue']"
      ]
     },
     "execution_count": 180,
     "metadata": {},
     "output_type": "execute_result"
    }
   ],
   "source": [
    "#list comprehension to look for a specifi account item\n",
    "[item for item in item_names if 'Revenue' in item]"
   ]
  },
  {
   "cell_type": "markdown",
   "id": "86f6b02e-6c26-4954-a614-fd748032f272",
   "metadata": {
    "tags": []
   },
   "source": [
    "#### Exploration: Revenues"
   ]
  },
  {
   "cell_type": "code",
   "execution_count": 188,
   "id": "5b8db1cb-7d0d-4527-b561-4dc143510db2",
   "metadata": {},
   "outputs": [],
   "source": [
    "rev_label = ibm_gaap['Revenues']['label']\n",
    "rev_description = ibm_gaap['Revenues']['description']"
   ]
  },
  {
   "cell_type": "code",
   "execution_count": 190,
   "id": "bed7c070-ff29-4ba8-8fe4-a4c7551a561b",
   "metadata": {},
   "outputs": [
    {
     "name": "stdout",
     "output_type": "stream",
     "text": [
      "label:Revenues \n",
      "\n",
      "description:Amount of revenue recognized from goods sold, services rendered, insurance premiums, or other activities that constitute an earning process. Includes, but is not limited to, investment and interest income before deduction of interest expense when recognized as a component of revenue, and sales and trading gain (loss).\n"
     ]
    }
   ],
   "source": [
    "print(f'label:{rev_label} \\n\\ndescription:{rev_description}')"
   ]
  },
  {
   "cell_type": "code",
   "execution_count": 214,
   "id": "27ca01ab-d50b-4bbd-b874-f7f25b08f1ad",
   "metadata": {},
   "outputs": [],
   "source": [
    "#check entry format \n",
    "rev_entry = ibm_gaap['Revenues']['units']['USD']\n",
    "revenues_df = pd.DataFrame.from_dict(rev_entry)"
   ]
  },
  {
   "cell_type": "code",
   "execution_count": 216,
   "id": "19e00cfe-8098-42d2-8893-cefae9ccf08d",
   "metadata": {},
   "outputs": [
    {
     "data": {
      "text/plain": [
       "(199, 9)"
      ]
     },
     "execution_count": 216,
     "metadata": {},
     "output_type": "execute_result"
    }
   ],
   "source": [
    "revenues_df.shape"
   ]
  },
  {
   "cell_type": "code",
   "execution_count": 219,
   "id": "6d7c8df4-9967-49a0-8529-13e226f2f5d1",
   "metadata": {},
   "outputs": [],
   "source": [
    "revenues_df_10k = revenues_df.loc[revenues_df['form'] == '10-K']"
   ]
  },
  {
   "cell_type": "code",
   "execution_count": 222,
   "id": "0a38a0a3-0c8a-417b-8744-81bbd9f870a7",
   "metadata": {},
   "outputs": [
    {
     "data": {
      "text/html": [
       "<div>\n",
       "<style scoped>\n",
       "    .dataframe tbody tr th:only-of-type {\n",
       "        vertical-align: middle;\n",
       "    }\n",
       "\n",
       "    .dataframe tbody tr th {\n",
       "        vertical-align: top;\n",
       "    }\n",
       "\n",
       "    .dataframe thead th {\n",
       "        text-align: right;\n",
       "    }\n",
       "</style>\n",
       "<table border=\"1\" class=\"dataframe\">\n",
       "  <thead>\n",
       "    <tr style=\"text-align: right;\">\n",
       "      <th></th>\n",
       "      <th>start</th>\n",
       "      <th>end</th>\n",
       "      <th>val</th>\n",
       "      <th>accn</th>\n",
       "      <th>fy</th>\n",
       "      <th>fp</th>\n",
       "      <th>form</th>\n",
       "      <th>filed</th>\n",
       "      <th>frame</th>\n",
       "    </tr>\n",
       "  </thead>\n",
       "  <tbody>\n",
       "    <tr>\n",
       "      <th>0</th>\n",
       "      <td>2007-01-01</td>\n",
       "      <td>2007-12-31</td>\n",
       "      <td>98786000000</td>\n",
       "      <td>0001047469-10-001151</td>\n",
       "      <td>2009</td>\n",
       "      <td>FY</td>\n",
       "      <td>10-K</td>\n",
       "      <td>2010-02-23</td>\n",
       "      <td>CY2007</td>\n",
       "    </tr>\n",
       "    <tr>\n",
       "      <th>5</th>\n",
       "      <td>2008-01-01</td>\n",
       "      <td>2008-12-31</td>\n",
       "      <td>103630000000</td>\n",
       "      <td>0001047469-10-001151</td>\n",
       "      <td>2009</td>\n",
       "      <td>FY</td>\n",
       "      <td>10-K</td>\n",
       "      <td>2010-02-23</td>\n",
       "      <td>NaN</td>\n",
       "    </tr>\n",
       "    <tr>\n",
       "      <th>6</th>\n",
       "      <td>2008-01-01</td>\n",
       "      <td>2008-12-31</td>\n",
       "      <td>103630000000</td>\n",
       "      <td>0001047469-11-001117</td>\n",
       "      <td>2010</td>\n",
       "      <td>FY</td>\n",
       "      <td>10-K</td>\n",
       "      <td>2011-02-22</td>\n",
       "      <td>CY2008</td>\n",
       "    </tr>\n",
       "  </tbody>\n",
       "</table>\n",
       "</div>"
      ],
      "text/plain": [
       "        start         end           val                  accn    fy  fp  form  \\\n",
       "0  2007-01-01  2007-12-31   98786000000  0001047469-10-001151  2009  FY  10-K   \n",
       "5  2008-01-01  2008-12-31  103630000000  0001047469-10-001151  2009  FY  10-K   \n",
       "6  2008-01-01  2008-12-31  103630000000  0001047469-11-001117  2010  FY  10-K   \n",
       "\n",
       "        filed   frame  \n",
       "0  2010-02-23  CY2007  \n",
       "5  2010-02-23     NaN  \n",
       "6  2011-02-22  CY2008  "
      ]
     },
     "execution_count": 222,
     "metadata": {},
     "output_type": "execute_result"
    }
   ],
   "source": [
    "revenues_df_10k.head(3)"
   ]
  },
  {
   "cell_type": "markdown",
   "id": "739c7aa5-a886-4aab-be9e-c04296059ff4",
   "metadata": {
    "tags": []
   },
   "source": [
    "## Company Company Concepts"
   ]
  },
  {
   "cell_type": "markdown",
   "id": "815e9f37-6d6e-47cb-a8ef-bb6af7e01770",
   "metadata": {},
   "source": [
    "When querying for specific company concepts:\n",
    "\n",
    "> *NOTE: this is easily attainable when using the previous query on the company facts*"
   ]
  },
  {
   "cell_type": "code",
   "execution_count": 195,
   "id": "d0b64f95-eb70-4a02-8cc9-f1a0b968127b",
   "metadata": {},
   "outputs": [],
   "source": [
    "acc_item = 'Revenues'"
   ]
  },
  {
   "cell_type": "code",
   "execution_count": 206,
   "id": "f9f69515-e01c-47fa-b39c-4bbd1597bcd4",
   "metadata": {},
   "outputs": [],
   "source": [
    "ibm_rev_req = requests.get(\n",
    "                    f'https://data.sec.gov/api/xbrl/companyconcept/CIK{ibm_cik}/us-gaap/{acc_item}.json',\n",
    "                    headers=headers\n",
    "                    )"
   ]
  },
  {
   "cell_type": "code",
   "execution_count": 210,
   "id": "ae25c132-cafc-4419-83fd-b0a5bba49424",
   "metadata": {},
   "outputs": [],
   "source": [
    "ibm_rev_dict = ibm_rev_req.json()['units']['USD']"
   ]
  },
  {
   "cell_type": "code",
   "execution_count": 211,
   "id": "2f2f674f-8a1e-4f87-af1c-fc8f71dd3f77",
   "metadata": {},
   "outputs": [],
   "source": [
    "ibm_rev_df = pd.DataFrame.from_dict(ibm_rev_dict)"
   ]
  },
  {
   "cell_type": "code",
   "execution_count": 217,
   "id": "53f4bb78-7b4b-422c-9898-1cc8ad85d415",
   "metadata": {},
   "outputs": [
    {
     "data": {
      "text/plain": [
       "(199, 9)"
      ]
     },
     "execution_count": 217,
     "metadata": {},
     "output_type": "execute_result"
    }
   ],
   "source": [
    "ibm_rev_df.shape"
   ]
  },
  {
   "cell_type": "code",
   "execution_count": 218,
   "id": "535c0f74-5247-4a67-8a45-fdf19c71805f",
   "metadata": {},
   "outputs": [
    {
     "data": {
      "text/html": [
       "<div>\n",
       "<style scoped>\n",
       "    .dataframe tbody tr th:only-of-type {\n",
       "        vertical-align: middle;\n",
       "    }\n",
       "\n",
       "    .dataframe tbody tr th {\n",
       "        vertical-align: top;\n",
       "    }\n",
       "\n",
       "    .dataframe thead th {\n",
       "        text-align: right;\n",
       "    }\n",
       "</style>\n",
       "<table border=\"1\" class=\"dataframe\">\n",
       "  <thead>\n",
       "    <tr style=\"text-align: right;\">\n",
       "      <th></th>\n",
       "      <th>start</th>\n",
       "      <th>end</th>\n",
       "      <th>val</th>\n",
       "      <th>accn</th>\n",
       "      <th>fy</th>\n",
       "      <th>fp</th>\n",
       "      <th>form</th>\n",
       "      <th>filed</th>\n",
       "      <th>frame</th>\n",
       "    </tr>\n",
       "  </thead>\n",
       "  <tbody>\n",
       "    <tr>\n",
       "      <th>0</th>\n",
       "      <td>2007-01-01</td>\n",
       "      <td>2007-12-31</td>\n",
       "      <td>98786000000</td>\n",
       "      <td>0001047469-10-001151</td>\n",
       "      <td>2009</td>\n",
       "      <td>FY</td>\n",
       "      <td>10-K</td>\n",
       "      <td>2010-02-23</td>\n",
       "      <td>CY2007</td>\n",
       "    </tr>\n",
       "    <tr>\n",
       "      <th>1</th>\n",
       "      <td>2008-01-01</td>\n",
       "      <td>2008-06-30</td>\n",
       "      <td>51322000000</td>\n",
       "      <td>0001104659-09-045198</td>\n",
       "      <td>2009</td>\n",
       "      <td>Q2</td>\n",
       "      <td>10-Q</td>\n",
       "      <td>2009-07-28</td>\n",
       "      <td>NaN</td>\n",
       "    </tr>\n",
       "    <tr>\n",
       "      <th>2</th>\n",
       "      <td>2008-04-01</td>\n",
       "      <td>2008-06-30</td>\n",
       "      <td>26820000000</td>\n",
       "      <td>0001104659-09-045198</td>\n",
       "      <td>2009</td>\n",
       "      <td>Q2</td>\n",
       "      <td>10-Q</td>\n",
       "      <td>2009-07-28</td>\n",
       "      <td>CY2008Q2</td>\n",
       "    </tr>\n",
       "  </tbody>\n",
       "</table>\n",
       "</div>"
      ],
      "text/plain": [
       "        start         end          val                  accn    fy  fp  form  \\\n",
       "0  2007-01-01  2007-12-31  98786000000  0001047469-10-001151  2009  FY  10-K   \n",
       "1  2008-01-01  2008-06-30  51322000000  0001104659-09-045198  2009  Q2  10-Q   \n",
       "2  2008-04-01  2008-06-30  26820000000  0001104659-09-045198  2009  Q2  10-Q   \n",
       "\n",
       "        filed     frame  \n",
       "0  2010-02-23    CY2007  \n",
       "1  2009-07-28       NaN  \n",
       "2  2009-07-28  CY2008Q2  "
      ]
     },
     "execution_count": 218,
     "metadata": {},
     "output_type": "execute_result"
    }
   ],
   "source": [
    "ibm_rev_df.head(3)"
   ]
  },
  {
   "cell_type": "code",
   "execution_count": null,
   "id": "2eda2313-bf01-43ae-9acb-01780a78e566",
   "metadata": {},
   "outputs": [],
   "source": []
  }
 ],
 "metadata": {
  "kernelspec": {
   "display_name": "Python 3 (ipykernel)",
   "language": "python",
   "name": "python3"
  },
  "language_info": {
   "codemirror_mode": {
    "name": "ipython",
    "version": 3
   },
   "file_extension": ".py",
   "mimetype": "text/x-python",
   "name": "python",
   "nbconvert_exporter": "python",
   "pygments_lexer": "ipython3",
   "version": "3.10.6"
  }
 },
 "nbformat": 4,
 "nbformat_minor": 5
}
